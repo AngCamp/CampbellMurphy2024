{
 "cells": [
  {
   "cell_type": "markdown",
   "metadata": {},
   "source": [
    "Getting the subset of IBL data to test on."
   ]
  },
  {
   "cell_type": "code",
   "execution_count": 2,
   "metadata": {},
   "outputs": [],
   "source": [
    "import os\n",
    "import subprocess \n",
    "import numpy as np\n",
    "import pandas as pd\n",
    "from one.api import ONE\n",
    "import random\n",
    "\n",
    "from one.api import ONE\n",
    "ONE.setup(base_url='https://openalyx.internationalbrainlab.org', silent=True)\n",
    "one = ONE(password='international')"
   ]
  },
  {
   "cell_type": "code",
   "execution_count": 3,
   "metadata": {},
   "outputs": [
    {
     "name": "stdout",
     "output_type": "stream",
     "text": [
      "No. of detected sessions: 201\n",
      "No. of detected insertions: 201\n"
     ]
    }
   ],
   "source": [
    "#Searching for datasets\n",
    "brain_acronym = 'CA1'\n",
    "# query sessions endpoint\n",
    "sessions, sess_details = one.search(atlas_acronym=brain_acronym, query_type='remote', details=True)\n",
    "print(f'No. of detected sessions: {len(sessions)}')\n",
    "\n",
    "# query insertions endpoint\n",
    "insertions = one.search_insertions(atlas_acronym=brain_acronym)\n",
    "print(f'No. of detected insertions: {len(insertions)}')"
   ]
  },
  {
   "cell_type": "code",
   "execution_count": 4,
   "metadata": {},
   "outputs": [
    {
     "name": "stdout",
     "output_type": "stream",
     "text": [
      "2021_Q1_IBL_et_al_Behaviour\n",
      "https://doi.org/10.7554/eLife.63711\n",
      "\n",
      "2021_Q2_PreRelease\n",
      "https://figshare.com/articles/online_resource/Spike_sorting_pipeline_for_the_International_Brain_Laboratory/19705522/3\n",
      "\n",
      "2021_Q2_Varol_et_al\n",
      "https://doi.org/10.1109/ICASSP39728.2021.9414145\n",
      "\n",
      "2021_Q3_Whiteway_et_al\n",
      "https://doi.org/10.1371/journal.pcbi.1009439\n",
      "\n",
      "2022_Q2_IBL_et_al_RepeatedSite\n",
      "https://doi.org/10.1101/2022.05.09.491042\n",
      "\n",
      "2022_Q3_IBL_et_al_DAWG\n",
      "https://doi.org/10.1101/827873\n",
      "\n",
      "2022_Q4_IBL_et_al_BWM\n",
      "https://figshare.com/articles/preprint/Data_release_-_Brainwide_map_-_Q4_2022/21400815\n",
      "\n",
      "2023_Q1_Biderman_Whiteway_et_al\n",
      "\n",
      "\n",
      "2023_Q1_Mohammadi_et_al\n",
      "\n",
      "\n",
      "2023_Q3_Findling_Hubert_et_al\n",
      "https://doi.org/10.1101/2023.07.04.547684\n",
      "\n",
      "2023_Q4_Bruijns_et_al\n",
      "\n",
      "\n",
      "2023_Q4_IBL_et_al_BWM_2\n",
      "\n",
      "\n",
      "2023_Q4_IBL_et_al_BWM_passive\n",
      "\n",
      "\n",
      "Brainwidemap\n",
      "\n",
      "\n"
     ]
    }
   ],
   "source": [
    "tags = {t['name']: t['description'] for t in one.alyx.rest('tags', 'list') if t['public']}\n",
    "for key, value in tags.items():\n",
    "    print(f\"{key}\\n{value}\\n\")"
   ]
  },
  {
   "cell_type": "code",
   "execution_count": 5,
   "metadata": {},
   "outputs": [
    {
     "name": "stdout",
     "output_type": "stream",
     "text": [
      "Downloading: /space/scratch/IBL_data_cache/2023_Q3_Findling_Hubert_et_al/tmp8gso6ued/cache.zip Bytes: 63104\n"
     ]
    },
    {
     "name": "stderr",
     "output_type": "stream",
     "text": [
      "100%|██████████| 0.0601806640625/0.0601806640625 [00:00<00:00,  1.02it/s]\n"
     ]
    }
   ],
   "source": [
    "# get all sessions from the paper with the adjusted priors\n",
    "one.load_cache(tag = '2023_Q3_Findling_Hubert_et_al',)\n",
    "sessions_adjusted_priors = one.search()  # All sessions used in the Findling paper\n",
    "\n",
    "# To return to the full cache containing an index of all IBL experiments\n",
    "ONE.cache_clear()\n",
    "one = ONE(base_url='https://openalyx.internationalbrainlab.org')"
   ]
  },
  {
   "cell_type": "code",
   "execution_count": 6,
   "metadata": {},
   "outputs": [
    {
     "name": "stdout",
     "output_type": "stream",
     "text": [
      "Downloading: /space/scratch/IBL_data_cache/2022_Q2_IBL_et_al_RepeatedSite/tmpkl2gk84s/cache.zip Bytes: 339313\n"
     ]
    },
    {
     "name": "stderr",
     "output_type": "stream",
     "text": [
      "100%|██████████| 0.3235940933227539/0.3235940933227539 [00:00<00:00,  1.29it/s]\n"
     ]
    }
   ],
   "source": [
    "# get all sessions from the paper with the adjusted priors\n",
    "one.load_cache(tag = '2022_Q2_IBL_et_al_RepeatedSite',)\n",
    "sessions_rep_sites = one.search()  # All sessions used in the Findling paper\n",
    "\n",
    "# To return to the full cache containing an index of all IBL experiments\n",
    "ONE.cache_clear()\n",
    "one = ONE(base_url='https://openalyx.internationalbrainlab.org')"
   ]
  },
  {
   "cell_type": "code",
   "execution_count": 7,
   "metadata": {},
   "outputs": [],
   "source": [
    "# here we querry the session with ca1 to see which ones are from the Findling et al.,(2023) paper with changing priors\n",
    "all_sesh_with_ca1_eid = [eid for eid in sessions]\n"
   ]
  },
  {
   "cell_type": "code",
   "execution_count": 17,
   "metadata": {},
   "outputs": [
    {
     "name": "stdout",
     "output_type": "stream",
     "text": [
      "13\n"
     ]
    },
    {
     "data": {
      "text/plain": [
       "array([False, False, False, False, False, False, False, False, False,\n",
       "       False, False, False, False, False, False, False, False, False,\n",
       "       False, False, False, False, False, False, False, False, False,\n",
       "       False, False, False, False, False, False, False, False, False,\n",
       "       False,  True, False, False, False, False, False,  True, False,\n",
       "       False, False,  True, False, False, False, False, False, False,\n",
       "       False, False, False, False, False, False, False, False, False,\n",
       "       False, False, False, False, False, False, False, False, False,\n",
       "        True,  True, False, False, False,  True,  True, False, False,\n",
       "       False, False, False, False, False, False, False, False, False,\n",
       "       False, False, False, False,  True, False, False, False, False,\n",
       "       False, False, False, False, False, False, False, False, False,\n",
       "       False, False, False, False, False, False, False, False, False,\n",
       "       False, False, False, False,  True, False, False, False, False,\n",
       "       False, False, False, False, False, False, False, False, False,\n",
       "       False, False, False, False, False, False, False, False, False,\n",
       "       False, False, False, False, False, False, False, False, False,\n",
       "       False, False, False, False,  True, False, False, False,  True,\n",
       "        True, False, False, False, False, False, False, False, False,\n",
       "       False, False, False, False,  True, False, False, False, False,\n",
       "       False, False, False, False, False, False, False, False, False,\n",
       "       False, False, False, False, False, False, False, False, False,\n",
       "       False, False, False])"
      ]
     },
     "execution_count": 17,
     "metadata": {},
     "output_type": "execute_result"
    }
   ],
   "source": [
    "# How many sessions with CA1 recordings aref rom Fidling et al., (2023)?\n",
    "print(np.sum(np.isin(all_sesh_with_ca1_eid, sessions_adjusted_priors)))\n",
    "np.isin(all_sesh_with_ca1_eid, sessions_adjusted_priors)"
   ]
  },
  {
   "cell_type": "code",
   "execution_count": 16,
   "metadata": {},
   "outputs": [
    {
     "name": "stdout",
     "output_type": "stream",
     "text": [
      "85\n"
     ]
    },
    {
     "data": {
      "text/plain": [
       "array([False, False, False, False, False, False, False, False, False,\n",
       "       False, False, False, False, False, False, False, False, False,\n",
       "       False, False, False, False, False, False, False, False, False,\n",
       "       False, False, False, False, False, False, False, False, False,\n",
       "       False, False, False,  True,  True, False, False,  True,  True,\n",
       "        True, False,  True,  True,  True, False,  True,  True,  True,\n",
       "        True,  True, False, False,  True,  True,  True,  True, False,\n",
       "        True,  True,  True,  True,  True, False, False,  True,  True,\n",
       "       False, False, False,  True,  True,  True,  True, False,  True,\n",
       "        True,  True,  True,  True,  True, False,  True,  True, False,\n",
       "       False, False,  True, False, False,  True,  True,  True, False,\n",
       "        True, False,  True, False,  True, False, False,  True,  True,\n",
       "        True, False,  True,  True,  True, False, False,  True, False,\n",
       "       False, False, False,  True, False, False,  True,  True,  True,\n",
       "       False,  True, False,  True,  True, False,  True,  True, False,\n",
       "       False,  True, False, False, False, False,  True, False,  True,\n",
       "        True, False, False, False,  True, False,  True, False,  True,\n",
       "        True, False,  True,  True, False, False,  True,  True, False,\n",
       "       False, False, False, False,  True,  True,  True,  True, False,\n",
       "        True, False, False, False, False,  True, False, False, False,\n",
       "       False,  True,  True, False, False, False, False, False,  True,\n",
       "        True, False, False,  True,  True,  True, False, False, False,\n",
       "       False,  True, False])"
      ]
     },
     "execution_count": 16,
     "metadata": {},
     "output_type": "execute_result"
    }
   ],
   "source": [
    "# How many sessions with CA1 recordings are from the rep sites paper?\n",
    "print(np.sum(np.isin(all_sesh_with_ca1_eid, sessions_rep_sites)))\n",
    "np.isin(all_sesh_with_ca1_eid, sessions_rep_sites)"
   ]
  },
  {
   "cell_type": "code",
   "execution_count": 71,
   "metadata": {},
   "outputs": [
    {
     "name": "stdout",
     "output_type": "stream",
     "text": [
      "4\n"
     ]
    },
    {
     "data": {
      "text/plain": [
       "array([False, False, False, False, False, False, False, False, False,\n",
       "       False, False, False, False, False, False, False, False, False,\n",
       "       False, False, False, False, False, False, False, False, False,\n",
       "       False, False, False, False, False, False, False, False, False,\n",
       "       False, False, False, False, False, False, False,  True, False,\n",
       "       False, False,  True, False, False, False, False, False, False,\n",
       "       False, False, False, False, False, False, False, False, False,\n",
       "       False, False, False, False, False, False, False, False, False,\n",
       "       False, False, False, False, False,  True,  True, False, False,\n",
       "       False, False, False, False, False, False, False, False, False,\n",
       "       False, False, False, False, False, False, False, False, False,\n",
       "       False, False, False, False, False, False, False, False, False,\n",
       "       False, False, False, False, False, False, False, False, False,\n",
       "       False, False, False, False, False, False, False, False, False,\n",
       "       False, False, False, False, False, False, False, False, False,\n",
       "       False, False, False, False, False, False, False, False, False,\n",
       "       False, False, False, False, False, False, False, False, False,\n",
       "       False, False, False, False, False, False, False, False, False,\n",
       "       False, False, False, False, False, False, False, False, False,\n",
       "       False, False, False, False, False, False, False, False, False,\n",
       "       False, False, False, False, False, False, False, False, False,\n",
       "       False, False, False, False, False, False, False, False, False,\n",
       "       False, False, False])"
      ]
     },
     "execution_count": 71,
     "metadata": {},
     "output_type": "execute_result"
    }
   ],
   "source": [
    "# hpw many are in both?\n",
    "print(np.sum(np.isin(all_sesh_with_ca1_eid, sessions_rep_sites) & np.isin(all_sesh_with_ca1_eid, sessions_adjusted_priors)))\n",
    "np.isin(all_sesh_with_ca1_eid, sessions_rep_sites) & np.isin(all_sesh_with_ca1_eid, sessions_adjusted_priors)"
   ]
  },
  {
   "cell_type": "code",
   "execution_count": 11,
   "metadata": {},
   "outputs": [
    {
     "data": {
      "text/plain": [
       "array([False, False, False, False,  True,  True, False, False,  True,\n",
       "       False, False, False, False, False, False, False, False, False,\n",
       "       False, False, False, False, False, False, False, False, False,\n",
       "       False, False, False, False, False, False, False, False, False,\n",
       "       False, False, False, False, False, False, False, False, False,\n",
       "       False, False,  True, False, False, False, False, False, False,\n",
       "        True, False, False, False, False, False, False, False,  True,\n",
       "        True, False, False, False,  True,  True,  True, False, False])"
      ]
     },
     "execution_count": 11,
     "metadata": {},
     "output_type": "execute_result"
    }
   ],
   "source": [
    "# how many from the Findling et al. (2023) collection have CA1 recordings?\n",
    "np.isin( sessions_adjusted_priors, all_sesh_with_ca1_eid)"
   ]
  },
  {
   "cell_type": "code",
   "execution_count": 20,
   "metadata": {},
   "outputs": [],
   "source": [
    "# I'm going to pick ten random recordings from each to test my workflows on before running the whole dataset\n",
    "sesh_list_full = np.array([x for x in sessions])\n",
    "\n",
    "# get the subset of sessions from the Findling et al., (2023) paper\n",
    "subset_ids = list(sesh_list_full[np.isin(all_sesh_with_ca1_eid, sessions_adjusted_priors)]) # list() is required for sample to work\n",
    "\n",
    "# append 10 random sessions not from the Findling et al., (2023) paper\n",
    "reps_not_in_priors_idx = np.isin(all_sesh_with_ca1_eid, sessions_adjusted_priors, invert = True) & np.isin(all_sesh_with_ca1_eid, sessions_rep_sites)\n",
    "subset_ids = subset_ids + random.sample(list(sesh_list_full[reps_not_in_priors_idx]), 13) # list() is required for sample to work"
   ]
  },
  {
   "cell_type": "code",
   "execution_count": 21,
   "metadata": {},
   "outputs": [
    {
     "data": {
      "text/plain": [
       "['0c828385-6dd6-4842-a702-c5075f5f5e81',\n",
       " '111c1762-7908-47e0-9f40-2f2ee55b6505',\n",
       " '8a3a0197-b40a-449f-be55-c00b23253bbf',\n",
       " '1a507308-c63a-4e02-8f32-3239a07dc578',\n",
       " '1a507308-c63a-4e02-8f32-3239a07dc578',\n",
       " '73918ae1-e4fd-4c18-b132-00cb555b1ad2',\n",
       " '73918ae1-e4fd-4c18-b132-00cb555b1ad2',\n",
       " '09b2c4d1-058d-4c84-9fd4-97530f85baf6',\n",
       " '5339812f-8b91-40ba-9d8f-a559563cc46b',\n",
       " '034e726f-b35f-41e0-8d6c-a22cc32391fb',\n",
       " '83e77b4b-dfa0-4af9-968b-7ea0c7a0c7e4',\n",
       " '83e77b4b-dfa0-4af9-968b-7ea0c7a0c7e4',\n",
       " '931a70ae-90ee-448e-bedb-9d41f3eda647',\n",
       " 'd2832a38-27f6-452d-91d6-af72d794136c',\n",
       " 'dda5fc59-f09a-4256-9fb5-66c67667a466',\n",
       " 'e2b845a1-e313-4a08-bc61-a5f662ed295e',\n",
       " 'a4a74102-2af5-45dc-9e41-ef7f5aed88be',\n",
       " '572a95d1-39ca-42e1-8424-5c9ffcb2df87',\n",
       " '781b35fd-e1f0-4d14-b2bb-95b7263082bb',\n",
       " 'b01df337-2d31-4bcc-a1fe-7112afd50c50',\n",
       " 'e535fb62-e245-4a48-b119-88ce62a6fe67',\n",
       " '614e1937-4b24-4ad3-9055-c8253d089919',\n",
       " '7f6b86f9-879a-4ea2-8531-294a221af5d0',\n",
       " '824cf03d-4012-4ab1-b499-c83a92c5589e',\n",
       " '4b00df29-3769-43be-bb40-128b1cba6d35',\n",
       " 'ff96bfe1-d925-4553-94b5-bf8297adf259']"
      ]
     },
     "execution_count": 21,
     "metadata": {},
     "output_type": "execute_result"
    }
   ],
   "source": [
    "subset_ids"
   ]
  },
  {
   "cell_type": "code",
   "execution_count": 22,
   "metadata": {},
   "outputs": [],
   "source": [
    "#save to file\n",
    "np.save('testing_ibl_list.npy', np.array(subset_ids))"
   ]
  }
 ],
 "metadata": {
  "kernelspec": {
   "display_name": "ONE_ibl_env",
   "language": "python",
   "name": "python3"
  },
  "language_info": {
   "codemirror_mode": {
    "name": "ipython",
    "version": 3
   },
   "file_extension": ".py",
   "mimetype": "text/x-python",
   "name": "python",
   "nbconvert_exporter": "python",
   "pygments_lexer": "ipython3",
   "version": "3.10.2"
  }
 },
 "nbformat": 4,
 "nbformat_minor": 2
}
