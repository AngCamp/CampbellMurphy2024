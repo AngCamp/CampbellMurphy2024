{
 "cells": [
  {
   "cell_type": "code",
   "execution_count": 1,
   "metadata": {},
   "outputs": [
    {
     "name": "stderr",
     "output_type": "stream",
     "text": [
      "/home/acampbell/miniconda3/envs/ONE_ibl_env/lib/python3.10/site-packages/ibllib/io/raw_data_loaders.py:19: DeprecationWarning: pkg_resources is deprecated as an API. See https://setuptools.pypa.io/en/latest/pkg_resources.html\n",
      "  from pkg_resources import parse_version\n"
     ]
    }
   ],
   "source": [
    "#IBL SWR detector\n",
    "import os\n",
    "import subprocess \n",
    "import numpy as np\n",
    "import pandas as pd\n",
    "from scipy import io, signal, stats\n",
    "from scipy.signal import lfilter\n",
    "import scipy.ndimage\n",
    "from scipy.ndimage import gaussian_filter\n",
    "from scipy.ndimage import gaussian_filter1d\n",
    "from scipy import interpolate\n",
    "import matplotlib.pyplot as plt\n",
    "import ripple_detection\n",
    "from ripple_detection import filter_ripple_band\n",
    "import ripple_detection.simulate as ripsim # for making our time vectors\n",
    "from tqdm import tqdm\n",
    "from iblatlas.atlas import AllenAtlas\n",
    "from iblatlas.regions import BrainRegions\n",
    "from one.api import ONE\n",
    "import spikeglx\n",
    "from brainbox.io.one import load_channel_locations\n",
    "from brainbox.io.spikeglx import Streamer\n",
    "from brainbox.io.one import SpikeSortingLoader\n",
    "from neurodsp.voltage import destripe_lfp\n",
    "from neurodsp.voltage import destripe_lfp\n",
    "from ibllib.plots import Density\n",
    "import time \n",
    "import traceback\n",
    "import logging\n",
    "import logging.handlers\n",
    "import sys\n",
    "from multiprocessing import Pool, Process, Queue, Manager, set_start_method\n",
    "from one.api import ONE\n",
    "\n",
    "ONE.setup(base_url='https://openalyx.internationalbrainlab.org', silent=True)\n",
    "one = ONE(password='international')"
   ]
  },
  {
   "cell_type": "code",
   "execution_count": null,
   "metadata": {},
   "outputs": [],
   "source": [
    "swrs_file_path = "
   ]
  }
 ],
 "metadata": {
  "kernelspec": {
   "display_name": "ONE_ibl_env",
   "language": "python",
   "name": "python3"
  },
  "language_info": {
   "codemirror_mode": {
    "name": "ipython",
    "version": 3
   },
   "file_extension": ".py",
   "mimetype": "text/x-python",
   "name": "python",
   "nbconvert_exporter": "python",
   "pygments_lexer": "ipython3",
   "version": "3.10.2"
  }
 },
 "nbformat": 4,
 "nbformat_minor": 2
}
