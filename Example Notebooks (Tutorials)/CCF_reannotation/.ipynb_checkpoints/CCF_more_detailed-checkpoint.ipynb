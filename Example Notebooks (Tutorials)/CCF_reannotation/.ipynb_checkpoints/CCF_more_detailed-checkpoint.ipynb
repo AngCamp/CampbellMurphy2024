{
 "cells": [
  {
   "cell_type": "markdown",
   "id": "992a7e92-3777-4060-af85-082a6e2df0a5",
   "metadata": {},
   "source": [
    "**Reannotating the Steinmetz data** <br>\n",
    "<br>\n",
    "I need to reannotate the data so that I can identify which channels are best to locate SWRs from using the de la Prida et al., (2022) CNN SWR detector.  It will also allow me to make claims about layer specific effects in cortex.  I am going to be following this tutorial [here](https://github.com/datajoint/workflow-array-ephys/blob/main/notebooks/08-electrode-localization.ipynb).  Note that in order to run the notebook you will need to set up the electorphys datajoint workflow which is explained in [this notebook](https://github.com/datajoint/workflow-array-ephys/blob/main/notebooks/01-configure.ipynb).  Youtube tutorial by the author is [here](https://www.youtube.com/watch?v=YRXokFHkLGg).  The annotation files are located [here](http://download.alleninstitute.org/informatics-archive/current-release/mouse_ccf/annotation/ccf_2017/), I am using the 25$\\mu$_m_ CCF annotation file. This is the Allen institute [tutorial for the CCF](https://github.com/AllenInstitute/CCF_Tutorial/blob/main/CCF_Tutorial.ipynb) it may be of use."
   ]
  },
  {
   "cell_type": "code",
   "execution_count": 10,
   "id": "22e42ea5-527b-4b11-82f6-18a037973773",
   "metadata": {},
   "outputs": [
    {
     "name": "stdout",
     "output_type": "stream",
     "text": [
      "Collecting package metadata (current_repodata.json): done\n",
      "Solving environment: failed with initial frozen solve. Retrying with flexible solve.\n",
      "Collecting package metadata (repodata.json): done\n",
      "Solving environment: failed with initial frozen solve. Retrying with flexible solve.\n",
      "\n",
      "PackagesNotFoundError: The following packages are not available from current channels:\n",
      "\n",
      "  - ...\n",
      "\n",
      "Current channels:\n",
      "\n",
      "  - https://conda.anaconda.org/edeno/linux-64\n",
      "  - https://conda.anaconda.org/edeno/noarch\n",
      "  - https://conda.anaconda.org/bioconda/linux-64\n",
      "  - https://conda.anaconda.org/bioconda/noarch\n",
      "  - https://conda.anaconda.org/conda-forge/linux-64\n",
      "  - https://conda.anaconda.org/conda-forge/noarch\n",
      "  - https://conda.anaconda.org/r/linux-64\n",
      "  - https://conda.anaconda.org/r/noarch\n",
      "  - https://repo.anaconda.com/pkgs/main/linux-64\n",
      "  - https://repo.anaconda.com/pkgs/main/noarch\n",
      "  - https://repo.anaconda.com/pkgs/r/linux-64\n",
      "  - https://repo.anaconda.com/pkgs/r/noarch\n",
      "\n",
      "To search for alternate channels that may provide the conda package you're\n",
      "looking for, navigate to\n",
      "\n",
      "    https://anaconda.org\n",
      "\n",
      "and use the search bar at the top of the page.\n",
      "\n",
      "\n"
     ]
    }
   ],
   "source": [
    "!conda install ..."
   ]
  },
  {
   "cell_type": "code",
   "execution_count": 5,
   "id": "5c142d05-778d-4695-8a74-0d5b2ffc0d48",
   "metadata": {},
   "outputs": [],
   "source": [
    "# change to the upper level folder to detect dj_local_conf.json\n",
    "import os\n",
    "if os.path.basename(os.getcwd()) == \"notebooks\":\n",
    "    os.chdir(\"..\")"
   ]
  },
  {
   "cell_type": "code",
   "execution_count": 6,
   "id": "c8efdec8-6556-483b-bf39-5cdf64e398c2",
   "metadata": {},
   "outputs": [],
   "source": [
    "# We'll be working with long tables, so we'll make visualization easier with a limit\n",
    "import datajoint as dj\n",
    "dj.config[\"display.limit\"] = 10"
   ]
  },
  {
   "cell_type": "code",
   "execution_count": 7,
   "id": "7f6a8818-ac0f-4b80-8f58-8de301874f35",
   "metadata": {},
   "outputs": [
    {
     "ename": "ModuleNotFoundError",
     "evalue": "No module named 'workflow_array_ephys'",
     "output_type": "error",
     "traceback": [
      "\u001b[0;31m---------------------------------------------------------------------------\u001b[0m",
      "\u001b[0;31mModuleNotFoundError\u001b[0m                       Traceback (most recent call last)",
      "Cell \u001b[0;32mIn [7], line 1\u001b[0m\n\u001b[0;32m----> 1\u001b[0m \u001b[38;5;28;01mfrom\u001b[39;00m \u001b[38;5;21;01mworkflow_array_ephys\u001b[39;00m\u001b[38;5;21;01m.\u001b[39;00m\u001b[38;5;21;01mlocalization\u001b[39;00m \u001b[38;5;28;01mimport\u001b[39;00m coordinate_framework \u001b[38;5;28;01mas\u001b[39;00m ccf\n",
      "\u001b[0;31mModuleNotFoundError\u001b[0m: No module named 'workflow_array_ephys'"
     ]
    }
   ],
   "source": [
    "from workflow_array_ephys.localization import coordinate_framework as ccf"
   ]
  }
 ],
 "metadata": {
  "kernelspec": {
   "display_name": "Python [conda env:stein-env]",
   "language": "python",
   "name": "conda-env-stein-env-py"
  },
  "language_info": {
   "codemirror_mode": {
    "name": "ipython",
    "version": 3
   },
   "file_extension": ".py",
   "mimetype": "text/x-python",
   "name": "python",
   "nbconvert_exporter": "python",
   "pygments_lexer": "ipython3",
   "version": "3.10.6"
  }
 },
 "nbformat": 4,
 "nbformat_minor": 5
}
