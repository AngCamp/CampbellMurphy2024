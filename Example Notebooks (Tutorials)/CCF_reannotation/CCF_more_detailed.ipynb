{
 "cells": [
  {
   "cell_type": "markdown",
   "id": "992a7e92-3777-4060-af85-082a6e2df0a5",
   "metadata": {},
   "source": [
    "**Reannotating the Steinmetz data** <br>\n",
    "<br>\n",
    "I need to reannotate the data so that I can identify which channels are best to locate SWRs from using the de la Prida et al., (2022) CNN SWR detector.  It will also allow me to make claims about layer specific effects in cortex.  I am going to be following this tutorial [here](https://github.com/datajoint/workflow-array-ephys/blob/main/notebooks/08-electrode-localization.ipynb).  Note that in order to run the notebook you will need to set up the electorphys datajoint workflow which is explained in [this notebook](https://github.com/datajoint/workflow-array-ephys/blob/main/notebooks/01-configure.ipynb).  Youtube tutorial by the author is [here](https://www.youtube.com/watch?v=YRXokFHkLGg).  The annotation files are located [here](http://download.alleninstitute.org/informatics-archive/current-release/mouse_ccf/annotation/ccf_2017/), I am using the 25$\\mu$_m_ CCF annotation file. This is the Allen institute [tutorial for using reference spaces](https://allensdk.readthedocs.io/en/latest/_static/examples/nb/reference_space.html) which should be useful there is also one which uses the connectivity data [here](https://github.com/AllenInstitute/CCF_Tutorial/blob/main/CCF_Tutorial.ipynb)."
   ]
  },
  {
   "cell_type": "code",
   "execution_count": 34,
   "id": "d2a2b480-fbac-4b51-8cc6-5aa529662990",
   "metadata": {},
   "outputs": [],
   "source": [
    "import numpy as np"
   ]
  },
  {
   "cell_type": "code",
   "execution_count": 18,
   "id": "16a67079-8f42-485d-831a-45c9a5347ae4",
   "metadata": {},
   "outputs": [],
   "source": [
    "import nrrd"
   ]
  },
  {
   "cell_type": "code",
   "execution_count": 19,
   "id": "af44bafe-26b2-44e5-9ac7-c96311564ed5",
   "metadata": {},
   "outputs": [],
   "source": [
    "annotation_25, header = nrrd.read('annotation_25.nrrd')"
   ]
  },
  {
   "cell_type": "code",
   "execution_count": 27,
   "id": "d2e4d904-50d4-40e0-bbb8-ac38009f3499",
   "metadata": {},
   "outputs": [
    {
     "data": {
      "text/plain": [
       "[277, 77, 179]"
      ]
     },
     "execution_count": 27,
     "metadata": {},
     "output_type": "execute_result"
    }
   ],
   "source": [
    "test_cord = [6936.2,1931.7,4497.7] # should be in CA1\n",
    "[int(x/25) for x in test_cord]"
   ]
  },
  {
   "cell_type": "code",
   "execution_count": 24,
   "id": "4d0f0edd-c490-47a6-8fe2-4e8192ebdcab",
   "metadata": {},
   "outputs": [
    {
     "ename": "IndexError",
     "evalue": "index 693 is out of bounds for axis 0 with size 528",
     "output_type": "error",
     "traceback": [
      "\u001b[0;31m---------------------------------------------------------------------------\u001b[0m",
      "\u001b[0;31mIndexError\u001b[0m                                Traceback (most recent call last)",
      "Cell \u001b[0;32mIn [24], line 1\u001b[0m\n\u001b[0;32m----> 1\u001b[0m \u001b[43mannotation_25\u001b[49m\u001b[43m[\u001b[49m\u001b[38;5;241;43m693\u001b[39;49m\u001b[43m,\u001b[49m\u001b[43m \u001b[49m\u001b[38;5;241;43m193\u001b[39;49m\u001b[43m,\u001b[49m\u001b[38;5;241;43m450\u001b[39;49m\u001b[43m]\u001b[49m\n",
      "\u001b[0;31mIndexError\u001b[0m: index 693 is out of bounds for axis 0 with size 528"
     ]
    }
   ],
   "source": [
    "annotation_25[693, 193,450]"
   ]
  },
  {
   "cell_type": "code",
   "execution_count": 25,
   "id": "efa06310-7971-4bcf-ae8c-7a4a4045d469",
   "metadata": {},
   "outputs": [
    {
     "data": {
      "text/plain": [
       "OrderedDict([('type', 'unsigned int'),\n",
       "             ('dimension', 3),\n",
       "             ('space', 'left-posterior-superior'),\n",
       "             ('sizes', array([528, 320, 456])),\n",
       "             ('space directions',\n",
       "              array([[25.,  0.,  0.],\n",
       "                     [ 0., 25.,  0.],\n",
       "                     [ 0.,  0., 25.]])),\n",
       "             ('kinds', ['domain', 'domain', 'domain']),\n",
       "             ('endian', 'little'),\n",
       "             ('encoding', 'gzip'),\n",
       "             ('space origin', array([0., 0., 0.]))])"
      ]
     },
     "execution_count": 25,
     "metadata": {},
     "output_type": "execute_result"
    }
   ],
   "source": [
    "header"
   ]
  },
  {
   "cell_type": "code",
   "execution_count": 28,
   "id": "738b7e17-a314-4dc8-9ebe-0b5e1b384745",
   "metadata": {},
   "outputs": [
    {
     "data": {
      "text/plain": [
       "382"
      ]
     },
     "execution_count": 28,
     "metadata": {},
     "output_type": "execute_result"
    }
   ],
   "source": [
    "annotation_25[277, 77, 179]"
   ]
  },
  {
   "cell_type": "code",
   "execution_count": 30,
   "id": "163fb987-7a28-4c6b-abdf-048539ea7f56",
   "metadata": {},
   "outputs": [],
   "source": [
    "annotation_10, header = nrrd.read('annotation_10.nrrd')"
   ]
  },
  {
   "cell_type": "code",
   "execution_count": 32,
   "id": "81ffaf32-7746-4f91-8b4b-80d1e1db3944",
   "metadata": {},
   "outputs": [
    {
     "data": {
      "text/plain": [
       "382"
      ]
     },
     "execution_count": 32,
     "metadata": {},
     "output_type": "execute_result"
    }
   ],
   "source": [
    "test_cord = [6936.2,1931.7,4497.7] # should be in CA1\n",
    "test_cord_10 = [int(x/10) for x in test_cord]\n",
    "annotation_10[test_cord_10[0], test_cord_10[1], test_cord_10[2]]"
   ]
  },
  {
   "cell_type": "code",
   "execution_count": 37,
   "id": "9b086a07-179f-486f-b7c3-a85591cf1bca",
   "metadata": {},
   "outputs": [],
   "source": [
    "result = np.where(annotation_10 == 382) # this is the structure Id for CA1"
   ]
  },
  {
   "cell_type": "code",
   "execution_count": 38,
   "id": "2ddd6545-dbba-4869-ad42-5a91ac5dc1a8",
   "metadata": {},
   "outputs": [
    {
     "data": {
      "text/plain": [
       "(array([631, 631, 631, ..., 900, 900, 900]),\n",
       " array([193, 193, 193, ..., 426, 426, 426]),\n",
       " array([470, 471, 668, ..., 156, 983, 984]))"
      ]
     },
     "execution_count": 38,
     "metadata": {},
     "output_type": "execute_result"
    }
   ],
   "source": [
    "result"
   ]
  },
  {
   "cell_type": "code",
   "execution_count": 5,
   "id": "a04e77c8-6d54-4b7a-87e9-38cab35b08cd",
   "metadata": {},
   "outputs": [],
   "source": [
    "result = np.where(annotation_10 == 407) # this is the structure Id for CA1 pyramidal layer"
   ]
  },
  {
   "cell_type": "code",
   "execution_count": 5,
   "id": "415c5f23-cca0-4793-a388-5a0116b452d4",
   "metadata": {},
   "outputs": [],
   "source": [
    "# change to the upper level folder to detect dj_local_conf.json\n",
    "import os\n",
    "if os.path.basename(os.getcwd()) == \"notebooks\":\n",
    "    os.chdir(\"..\")"
   ]
  },
  {
   "cell_type": "code",
   "execution_count": 6,
   "id": "c8efdec8-6556-483b-bf39-5cdf64e398c2",
   "metadata": {},
   "outputs": [],
   "source": [
    "# We'll be working with long tables, so we'll make visualization easier with a limit\n",
    "import datajoint as dj\n",
    "dj.config[\"display.limit\"] = 10"
   ]
  },
  {
   "cell_type": "code",
   "execution_count": 7,
   "id": "91a6a6f2-afe9-4171-8031-ae152d03b127",
   "metadata": {},
   "outputs": [],
   "source": [
    "from workflow_array_ephys.localization import coordinate_framework as ccf"
   ]
  },
  {
   "cell_type": "code",
   "execution_count": 7,
   "id": "e1876165-4650-4618-bc41-48314f442f2b",
   "metadata": {},
   "outputs": [
    {
     "ename": "ModuleNotFoundError",
     "evalue": "No module named 'workflow_array_ephys'",
     "output_type": "error",
     "traceback": [
      "\u001b[0;31m---------------------------------------------------------------------------\u001b[0m",
      "\u001b[0;31mModuleNotFoundError\u001b[0m                       Traceback (most recent call last)",
      "Cell \u001b[0;32mIn [7], line 1\u001b[0m\n\u001b[0;32m----> 1\u001b[0m \u001b[38;5;28;01mfrom\u001b[39;00m \u001b[38;5;21;01mworkflow_array_ephys\u001b[39;00m\u001b[38;5;21;01m.\u001b[39;00m\u001b[38;5;21;01mlocalization\u001b[39;00m \u001b[38;5;28;01mimport\u001b[39;00m coordinate_framework \u001b[38;5;28;01mas\u001b[39;00m ccf\n",
      "\u001b[0;31mModuleNotFoundError\u001b[0m: No module named 'workflow_array_ephys'"
     ]
    }
   ],
   "source": []
  }
 ],
 "metadata": {
  "kernelspec": {
   "display_name": "Python [conda env:stein-env]",
   "language": "python",
   "name": "conda-env-stein-env-py"
  },
  "language_info": {
   "codemirror_mode": {
    "name": "ipython",
    "version": 3
   },
   "file_extension": ".py",
   "mimetype": "text/x-python",
   "name": "python",
   "nbconvert_exporter": "python",
   "pygments_lexer": "ipython3",
   "version": "3.10.6"
  }
 },
 "nbformat": 4,
 "nbformat_minor": 5
}
