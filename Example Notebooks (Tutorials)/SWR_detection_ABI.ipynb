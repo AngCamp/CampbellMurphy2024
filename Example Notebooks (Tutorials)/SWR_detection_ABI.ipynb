{
 "cells": [
  {
   "cell_type": "markdown",
   "metadata": {},
   "source": [
    "In the scripts in ExtractingSWRs I have provided an example of a pipeline to call data from the ABI and IBL then run through the LFP and associated meta data and return csvs with times of putative ripple events and various other metrics about the ripples.  But it can be useful to visualize the detectors results both to build your own and modify the code.  Visualization of the results of the detector are important to ensure there are not small bugs in your code and that teh data itself is nice.  It is not only useful to visulize events you are detecting but also artifacts that may prevent detection or produce false positives.  "
   ]
  },
  {
   "cell_type": "code",
   "execution_count": 6,
   "metadata": {},
   "outputs": [],
   "source": [
    "# Importing libraries\n",
    "\n",
    "# libraries\n",
    "import os\n",
    "import re\n",
    "import subprocess \n",
    "import numpy as np\n",
    "import pandas as pd\n",
    "from scipy import io, signal\n",
    "#from fitter import Fitter, get_common_distributions, get_distributions\n",
    "import scipy.ndimage\n",
    "from scipy.ndimage import gaussian_filter\n",
    "from scipy.ndimage import gaussian_filter1d\n",
    "import matplotlib.pyplot as plt\n",
    "# for ripple detection\n",
    "import ripple_detection\n",
    "from ripple_detection.core import filter_ripple_band\n",
    "from ripple_detection.simulate import simulate_time\n",
    "from scipy import signal\n",
    "import seaborn as sns\n",
    "#import KernelRegDraft as kreg # custom module, not needed\n",
    "#import 'Stienmetz2019Reanalyzed/KernelRegDraft.py' as kreg\n",
    "import piso #can be difficult to install, https://piso.readthedocs.io/en/latest/\n",
    "from scipy.ndimage import gaussian_filter\n",
    "from scipy.ndimage import gaussian_filter1d\n",
    "from scipy import stats\n",
    "from tqdm import tqdm\n",
    "import piso\n",
    "from ripple_detection.simulate import simulate_time\n",
    "from allensdk.brain_observatory.ecephys.ecephys_project_cache import EcephysProjectCache\n",
    "import xarray as xr\n",
    "from scipy import interpolate\n",
    "from scipy.signal import firwin, lfilter\n",
    "import sys\n",
    "sys.path.append('/home/acampbell/NeuropixelsLFPOnRamp')\n",
    "import Core # contains some custom functions we will find useful\n"
   ]
  },
  {
   "cell_type": "markdown",
   "metadata": {},
   "source": [
    "The ExtractSWR scripts saved the channel in each probes CA1 LFP with the highest ripple band power.  It has already been reinterpolated from ~1250 Hz to 1500 Hz for use with the Frank Lab filter.  Note each probe has a slightly different sampling frequency which can be found in it's meta data.  I will show how to use the meta data to identify probes of interest but we will load the saved LFP data to make sure our detector is working properly. "
   ]
  },
  {
   "cell_type": "markdown",
   "metadata": {},
   "source": [
    "This is actually a useful exercise for me to build the pipeline.  Extracting -> filtering (which produces eventspersession.df) -> Global ripple detector (needs that df)"
   ]
  },
  {
   "cell_type": "code",
   "execution_count": null,
   "metadata": {},
   "outputs": [],
   "source": []
  }
 ],
 "metadata": {
  "kernelspec": {
   "display_name": "allensdk_env",
   "language": "python",
   "name": "python3"
  },
  "language_info": {
   "codemirror_mode": {
    "name": "ipython",
    "version": 3
   },
   "file_extension": ".py",
   "mimetype": "text/x-python",
   "name": "python",
   "nbconvert_exporter": "python",
   "pygments_lexer": "ipython3",
   "version": "3.10.2"
  }
 },
 "nbformat": 4,
 "nbformat_minor": 2
}
